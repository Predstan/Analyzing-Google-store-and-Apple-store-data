{
 "cells": [
  {
   "cell_type": "markdown",
   "metadata": {
    "collapsed": true
   },
   "source": [
    "Title:\n",
    "Identifying Best Application to attract More Users.\n",
    "Introduction:\n",
    "The Project is aimed at helping developers understand what type of free apps that are likely to attract more users in order to generate more reveneus.\n",
    "The Project will basically be aimed at Applications that are free todownload on Google pla and App Store where the only source of revenue is the in-apps ads\n"
   ]
  },
  {
   "cell_type": "code",
   "execution_count": 1,
   "metadata": {},
   "outputs": [],
   "source": [
    "from csv import reader\n",
    "def opening_file(file, header=True):\n",
    "    opened_file=open(file)\n",
    "    read_file = reader(opened_file)\n",
    "    apps_data= list(read_file)\n",
    "    if header:\n",
    "        return apps_data[1:], apps_data[0]\n",
    "   \n",
    "    return apps_data\n"
   ]
  },
  {
   "cell_type": "code",
   "execution_count": 2,
   "metadata": {},
   "outputs": [],
   "source": [
    "apple_file=opening_file(file='AppleStore.csv')\n",
    "android_file = opening_file(file = 'googleplaystore.csv')"
   ]
  },
  {
   "cell_type": "code",
   "execution_count": 3,
   "metadata": {},
   "outputs": [],
   "source": [
    "def explore_data(dataset, start, end, rows_and_column=False):\n",
    "    dataset_slice=dataset[start:end]\n",
    "    for row in dataset_slice:\n",
    "        print (row)\n",
    "        print('\\n')\n",
    "    if rows_and_column:\n",
    "        print('Number of rows:', len(dataset))\n",
    "        print(\"\\n\")\n",
    "        print('Number of Columns:', len(dataset[0]))\n",
    "    "
   ]
  },
  {
   "cell_type": "code",
   "execution_count": 4,
   "metadata": {},
   "outputs": [],
   "source": [
    "def printheader(data):\n",
    "    return data[1]\n",
    "def excludeheader(data):\n",
    "    return data[0]"
   ]
  },
  {
   "cell_type": "code",
   "execution_count": 5,
   "metadata": {},
   "outputs": [],
   "source": [
    "applestore_data = excludeheader(data=apple_file)\n",
    "googlestore_data = excludeheader(data=android_file)"
   ]
  },
  {
   "cell_type": "code",
   "execution_count": 6,
   "metadata": {},
   "outputs": [
    {
     "name": "stdout",
     "output_type": "stream",
     "text": [
      "['284882215', 'Facebook', '389879808', 'USD', '0.0', '2974676', '212', '3.5', '3.5', '95.0', '4+', 'Social Networking', '37', '1', '29', '1']\n",
      "\n",
      "\n",
      "Number of rows: 7197\n",
      "\n",
      "\n",
      "Number of Columns: 16\n"
     ]
    }
   ],
   "source": [
    "explore_data(dataset=applestore_data, start=0, end=1, rows_and_column=True)"
   ]
  },
  {
   "cell_type": "code",
   "execution_count": 7,
   "metadata": {},
   "outputs": [
    {
     "name": "stdout",
     "output_type": "stream",
     "text": [
      "['id', 'track_name', 'size_bytes', 'currency', 'price', 'rating_count_tot', 'rating_count_ver', 'user_rating', 'user_rating_ver', 'ver', 'cont_rating', 'prime_genre', 'sup_devices.num', 'ipadSc_urls.num', 'lang.num', 'vpp_lic']\n",
      "\n",
      "\n",
      "['App', 'Category', 'Rating', 'Reviews', 'Size', 'Installs', 'Type', 'Price', 'Content Rating', 'Genres', 'Last Updated', 'Current Ver', 'Android Ver']\n"
     ]
    }
   ],
   "source": [
    "headerplay=printheader(data=apple_file)\n",
    "headerdroid=printheader(data=android_file)\n",
    "print(headerplay)\n",
    "print('\\n')\n",
    "print(headerdroid)\n"
   ]
  },
  {
   "cell_type": "code",
   "execution_count": 8,
   "metadata": {},
   "outputs": [
    {
     "name": "stdout",
     "output_type": "stream",
     "text": [
      "['Life Made WI-Fi Touchscreen Photo Frame', '1.9', '19', '3.0M', '1,000+', 'Free', '0', 'Everyone', '', 'February 11, 2018', '1.0.19', '4.0 and up']\n"
     ]
    }
   ],
   "source": [
    "print(googlestore_data[10472])\n",
    "del googlestore_data[10472]\n"
   ]
  },
  {
   "cell_type": "markdown",
   "metadata": {},
   "source": [
    "To Analyze these Datas, we need to make sur that there are no duplicates. My next approach here is to remove the Applications that have duplicates as seen with instagram as an example below."
   ]
  },
  {
   "cell_type": "code",
   "execution_count": 9,
   "metadata": {},
   "outputs": [
    {
     "name": "stdout",
     "output_type": "stream",
     "text": [
      "['Instagram', 'SOCIAL', '4.5', '66577313', 'Varies with device', '1,000,000,000+', 'Free', '0', 'Teen', 'Social', 'July 31, 2018', 'Varies with device', 'Varies with device']\n",
      "['Instagram', 'SOCIAL', '4.5', '66577446', 'Varies with device', '1,000,000,000+', 'Free', '0', 'Teen', 'Social', 'July 31, 2018', 'Varies with device', 'Varies with device']\n",
      "['Instagram', 'SOCIAL', '4.5', '66577313', 'Varies with device', '1,000,000,000+', 'Free', '0', 'Teen', 'Social', 'July 31, 2018', 'Varies with device', 'Varies with device']\n",
      "['Instagram', 'SOCIAL', '4.5', '66509917', 'Varies with device', '1,000,000,000+', 'Free', '0', 'Teen', 'Social', 'July 31, 2018', 'Varies with device', 'Varies with device']\n"
     ]
    }
   ],
   "source": [
    "for app in googlestore_data:\n",
    "    name = app[0]\n",
    "    if name == 'Instagram':\n",
    "        print (app)"
   ]
  },
  {
   "cell_type": "code",
   "execution_count": 10,
   "metadata": {},
   "outputs": [
    {
     "name": "stdout",
     "output_type": "stream",
     "text": [
      "Number of Duplicate Datas: 1181\n",
      "\n",
      "\n",
      "Examples of Duplicate datas: ['Quick PDF Scanner + OCR FREE', 'Box', 'Google My Business', 'ZOOM Cloud Meetings', 'join.me - Simple Meetings', 'Box', 'Zenefits', 'Google Ads', 'Google My Business', 'Slack', 'FreshBooks Classic', 'Insightly CRM', 'QuickBooks Accounting: Invoicing & Expenses', 'HipChat - Chat Built for Teams', 'Xero Accounting Software']\n"
     ]
    }
   ],
   "source": [
    "unique_data = []\n",
    "duplicates_data = []\n",
    "for row in googlestore_data:\n",
    "    name = row[0]\n",
    "    if name in unique_data:\n",
    "        duplicates_data.append(name)\n",
    "    else:\n",
    "        unique_data.append(name)\n",
    "print('Number of Duplicate Datas:', len(duplicates_data)) \n",
    "print('\\n')\n",
    "print('Examples of Duplicate datas:', duplicates_data[:15])"
   ]
  },
  {
   "cell_type": "markdown",
   "metadata": {},
   "source": [
    "As seen above, there are 1181 duplicates datas. To work on the datas, duplicate datas will be removed but not randomly. Instead, the criteria will be that, the application with the highest rating will be left to work on"
   ]
  },
  {
   "cell_type": "code",
   "execution_count": 11,
   "metadata": {},
   "outputs": [
    {
     "name": "stdout",
     "output_type": "stream",
     "text": [
      "Expected length: 9659\n"
     ]
    }
   ],
   "source": [
    "print('Expected length:', len(googlestore_data)-1181)"
   ]
  },
  {
   "cell_type": "code",
   "execution_count": 12,
   "metadata": {},
   "outputs": [
    {
     "name": "stdout",
     "output_type": "stream",
     "text": [
      "9659\n"
     ]
    }
   ],
   "source": [
    "reviews_max = {}\n",
    "for app in googlestore_data:\n",
    "    name = app[0]\n",
    "    n_reviews = float(app[3])\n",
    "    if (name in reviews_max) and (reviews_max[name] < n_reviews):\n",
    "        reviews_max[name]=n_reviews\n",
    "    if name not in reviews_max:\n",
    "        reviews_max[name]= n_reviews\n",
    "print (len(reviews_max))"
   ]
  },
  {
   "cell_type": "code",
   "execution_count": 13,
   "metadata": {},
   "outputs": [],
   "source": [
    "googlestore_clean = []\n",
    "added_app = []\n",
    "for app in googlestore_data:\n",
    "    name = app[0]\n",
    "    n_reviews = float(app[3])\n",
    "    if (reviews_max[name] == n_reviews) and (name not in added_app):\n",
    "        googlestore_clean.append(app)\n",
    "        added_app.append(name)\n",
    "\n"
   ]
  },
  {
   "cell_type": "code",
   "execution_count": 14,
   "metadata": {},
   "outputs": [
    {
     "name": "stdout",
     "output_type": "stream",
     "text": [
      "['Offroad Oil Tanker Driver Transport Truck 2019', 'AUTO_AND_VEHICLES', '4.3', '542', '33M', '100,000+', 'Free', '0', 'Everyone', 'Auto & Vehicles', 'July 31, 2018', '4.0', '4.1 and up']\n",
      "\n",
      "\n",
      "['Tickets SDA 2018 and Exam from the State Traffic Safety Inspectorate with Drom.ru', 'AUTO_AND_VEHICLES', '4.9', '10479', '33M', '100,000+', 'Free', '0', 'Everyone', 'Auto & Vehicles', 'July 18, 2018', '1.7.1', '4.0 and up']\n",
      "\n",
      "\n",
      "['Gas Prices (Germany only)', 'AUTO_AND_VEHICLES', '4.4', '805', '5.6M', '50,000+', 'Free', '0', 'Everyone', 'Auto & Vehicles', 'July 29, 2018', '2.5.1', '4.4 and up']\n",
      "\n",
      "\n",
      "['Extreme Rally Championship', 'AUTO_AND_VEHICLES', '4.2', '129', '54M', '100,000+', 'Free', '0', 'Everyone', 'Auto & Vehicles', 'July 26, 2018', '3.0', '4.1 and up']\n",
      "\n",
      "\n",
      "['Restart Navigator', 'AUTO_AND_VEHICLES', '4.0', '1403', '201k', '100,000+', 'Free', '0', 'Everyone', 'Auto & Vehicles', 'August 26, 2014', '1.0.1', '2.2 and up']\n",
      "\n",
      "\n",
      "Number of rows: 9659\n",
      "\n",
      "\n",
      "Number of Columns: 13\n"
     ]
    }
   ],
   "source": [
    "explore_data(googlestore_clean, 50, 55, True)"
   ]
  },
  {
   "cell_type": "code",
   "execution_count": 15,
   "metadata": {},
   "outputs": [],
   "source": [
    "def string_iterate(data):\n",
    "    non_ascii = 0\n",
    "    for character in data:\n",
    "        if ord(character) > 127:\n",
    "            non_ascii +=1\n",
    "    if non_ascii > 3:\n",
    "            return False\n",
    "    else:\n",
    "            return True"
   ]
  },
  {
   "cell_type": "code",
   "execution_count": 16,
   "metadata": {},
   "outputs": [
    {
     "name": "stdout",
     "output_type": "stream",
     "text": [
      "['Photo Editor & Candy Camera & Grid & ScrapBook', 'ART_AND_DESIGN', '4.1', '159', '19M', '10,000+', 'Free', '0', 'Everyone', 'Art & Design', 'January 7, 2018', '1.0.0', '4.0.3 and up']\n",
      "\n",
      "\n",
      "['U Launcher Lite – FREE Live Cool Themes, Hide Apps', 'ART_AND_DESIGN', '4.7', '87510', '8.7M', '5,000,000+', 'Free', '0', 'Everyone', 'Art & Design', 'August 1, 2018', '1.2.4', '4.0.3 and up']\n",
      "\n",
      "\n",
      "Number of rows: 9614\n",
      "\n",
      "\n",
      "Number of Columns: 13\n",
      "['284882215', 'Facebook', '389879808', 'USD', '0.0', '2974676', '212', '3.5', '3.5', '95.0', '4+', 'Social Networking', '37', '1', '29', '1']\n",
      "\n",
      "\n",
      "['389801252', 'Instagram', '113954816', 'USD', '0.0', '2161558', '1289', '4.5', '4.0', '10.23', '12+', 'Photo & Video', '37', '0', '29', '1']\n",
      "\n",
      "\n",
      "['529479190', 'Clash of Clans', '116476928', 'USD', '0.0', '2130805', '579', '4.5', '4.5', '9.24.12', '9+', 'Games', '38', '5', '18', '1']\n",
      "\n",
      "\n",
      "Number of rows: 6183\n",
      "\n",
      "\n",
      "Number of Columns: 16\n"
     ]
    }
   ],
   "source": [
    "google_english= []\n",
    "google_non_english =[]\n",
    "apple_english = []\n",
    "apple_non_english = []\n",
    "\n",
    "for app in googlestore_clean:\n",
    "    name = app[0]\n",
    "    if string_iterate(name):\n",
    "        google_english.append(app)\n",
    "    else:\n",
    "        google_non_english.append(app)\n",
    "for app in applestore_data:\n",
    "    name = app[1]\n",
    "    if string_iterate(name):\n",
    "        apple_english.append(app)\n",
    "    else:\n",
    "        apple_non_english.append(app)\n",
    "explore_data(google_english,0, 2, True)\n",
    "explore_data(apple_english, 0, 3, True)"
   ]
  },
  {
   "cell_type": "code",
   "execution_count": 17,
   "metadata": {},
   "outputs": [
    {
     "name": "stdout",
     "output_type": "stream",
     "text": [
      "['284882215', 'Facebook', '389879808', 'USD', '0.0', '2974676', '212', '3.5', '3.5', '95.0', '4+', 'Social Networking', '37', '1', '29', '1']\n",
      "\n",
      "\n",
      "['389801252', 'Instagram', '113954816', 'USD', '0.0', '2161558', '1289', '4.5', '4.0', '10.23', '12+', 'Photo & Video', '37', '0', '29', '1']\n",
      "\n",
      "\n",
      "['529479190', 'Clash of Clans', '116476928', 'USD', '0.0', '2130805', '579', '4.5', '4.5', '9.24.12', '9+', 'Games', '38', '5', '18', '1']\n",
      "\n",
      "\n",
      "['420009108', 'Temple Run', '65921024', 'USD', '0.0', '1724546', '3842', '4.5', '4.0', '1.6.2', '9+', 'Games', '40', '5', '1', '1']\n",
      "\n",
      "\n",
      "['284035177', 'Pandora - Music & Radio', '130242560', 'USD', '0.0', '1126879', '3594', '4.0', '4.5', '8.4.1', '12+', 'Music', '37', '4', '1', '1']\n",
      "\n",
      "\n",
      "Number of rows: 3222\n",
      "\n",
      "\n",
      "Number of Columns: 16\n",
      "['Photo Editor & Candy Camera & Grid & ScrapBook', 'ART_AND_DESIGN', '4.1', '159', '19M', '10,000+', 'Free', '0', 'Everyone', 'Art & Design', 'January 7, 2018', '1.0.0', '4.0.3 and up']\n",
      "\n",
      "\n",
      "['U Launcher Lite – FREE Live Cool Themes, Hide Apps', 'ART_AND_DESIGN', '4.7', '87510', '8.7M', '5,000,000+', 'Free', '0', 'Everyone', 'Art & Design', 'August 1, 2018', '1.2.4', '4.0.3 and up']\n",
      "\n",
      "\n",
      "['Sketch - Draw & Paint', 'ART_AND_DESIGN', '4.5', '215644', '25M', '50,000,000+', 'Free', '0', 'Teen', 'Art & Design', 'June 8, 2018', 'Varies with device', '4.2 and up']\n",
      "\n",
      "\n",
      "['Pixel Draw - Number Art Coloring Book', 'ART_AND_DESIGN', '4.3', '967', '2.8M', '100,000+', 'Free', '0', 'Everyone', 'Art & Design;Creativity', 'June 20, 2018', '1.1', '4.4 and up']\n",
      "\n",
      "\n",
      "['Paper flowers instructions', 'ART_AND_DESIGN', '4.4', '167', '5.6M', '50,000+', 'Free', '0', 'Everyone', 'Art & Design', 'March 26, 2017', '1.0', '2.3 and up']\n",
      "\n",
      "\n",
      "Number of rows: 8864\n",
      "\n",
      "\n",
      "Number of Columns: 13\n"
     ]
    }
   ],
   "source": [
    "apple_free_data = []\n",
    "google_free_data=[]\n",
    "for app in apple_english:\n",
    "    price = app[4]\n",
    "    if price == '0.0':\n",
    "        apple_free_data.append(app)\n",
    "for app in google_english:\n",
    "    price = app[7]\n",
    "    if price == '0':\n",
    "        google_free_data.append(app)\n",
    "explore_data(apple_free_data, 0, 5, True)\n",
    "explore_data(google_free_data, 0, 5 , True)"
   ]
  },
  {
   "cell_type": "markdown",
   "metadata": {},
   "source": [
    "The Aim of this Project is to Build the kinds of apps that is likely more used by a lot of users in order to help increase revenue:\n",
    "\n",
    "Because our end goal is to add the app on both the App Store and Google Play, we need to find app profiles that are successful on both markets. For instance, a profile that might work well for both markets might be a productivity app that makes use of gamification."
   ]
  },
  {
   "cell_type": "code",
   "execution_count": 18,
   "metadata": {},
   "outputs": [
    {
     "name": "stdout",
     "output_type": "stream",
     "text": [
      "['id', 'track_name', 'size_bytes', 'currency', 'price', 'rating_count_tot', 'rating_count_ver', 'user_rating', 'user_rating_ver', 'ver', 'cont_rating', 'prime_genre', 'sup_devices.num', 'ipadSc_urls.num', 'lang.num', 'vpp_lic']\n",
      "\n",
      "\n",
      "['App', 'Category', 'Rating', 'Reviews', 'Size', 'Installs', 'Type', 'Price', 'Content Rating', 'Genres', 'Last Updated', 'Current Ver', 'Android Ver']\n"
     ]
    }
   ],
   "source": [
    "print(headerplay)\n",
    "print('\\n')\n",
    "print(headerdroid)"
   ]
  },
  {
   "cell_type": "code",
   "execution_count": 19,
   "metadata": {},
   "outputs": [
    {
     "name": "stdout",
     "output_type": "stream",
     "text": [
      "Games : 58.16263190564867\n",
      "Entertainment : 7.883302296710118\n",
      "Photo & Video : 4.9658597144630665\n",
      "Education : 3.662321539416512\n",
      "Social Networking : 3.2898820608317814\n",
      "Shopping : 2.60707635009311\n",
      "Utilities : 2.5139664804469275\n",
      "Sports : 2.1415270018621975\n",
      "Music : 2.0484171322160147\n",
      "Health & Fitness : 2.0173805090006205\n",
      "Productivity : 1.7380509000620732\n",
      "Lifestyle : 1.5828677839851024\n",
      "News : 1.3345747982619491\n",
      "Travel : 1.2414649286157666\n",
      "Finance : 1.1173184357541899\n",
      "Weather : 0.8690254500310366\n",
      "Food & Drink : 0.8069522036002483\n",
      "Reference : 0.5586592178770949\n",
      "Business : 0.5276225946617008\n",
      "Book : 0.4345127250155183\n",
      "Navigation : 0.186219739292365\n",
      "Medical : 0.186219739292365\n",
      "Catalogs : 0.12414649286157665\n",
      "\n",
      "\n",
      "FAMILY : 18.907942238267147\n",
      "GAME : 9.724729241877256\n",
      "TOOLS : 8.461191335740072\n",
      "BUSINESS : 4.591606498194946\n",
      "LIFESTYLE : 3.9034296028880866\n",
      "PRODUCTIVITY : 3.892148014440433\n",
      "FINANCE : 3.7003610108303246\n",
      "MEDICAL : 3.531137184115524\n",
      "SPORTS : 3.395758122743682\n",
      "PERSONALIZATION : 3.3167870036101084\n",
      "COMMUNICATION : 3.2378158844765346\n",
      "HEALTH_AND_FITNESS : 3.0798736462093865\n",
      "PHOTOGRAPHY : 2.944494584837545\n",
      "NEWS_AND_MAGAZINES : 2.7978339350180503\n",
      "SOCIAL : 2.6624548736462095\n",
      "TRAVEL_AND_LOCAL : 2.33528880866426\n",
      "SHOPPING : 2.2450361010830324\n",
      "BOOKS_AND_REFERENCE : 2.1435018050541514\n",
      "DATING : 1.861462093862816\n",
      "VIDEO_PLAYERS : 1.7937725631768955\n",
      "MAPS_AND_NAVIGATION : 1.3989169675090252\n",
      "FOOD_AND_DRINK : 1.2409747292418771\n",
      "EDUCATION : 1.1620036101083033\n",
      "ENTERTAINMENT : 0.9589350180505415\n",
      "LIBRARIES_AND_DEMO : 0.9363718411552346\n",
      "AUTO_AND_VEHICLES : 0.9250902527075812\n",
      "HOUSE_AND_HOME : 0.8235559566787004\n",
      "WEATHER : 0.8009927797833934\n",
      "EVENTS : 0.7107400722021661\n",
      "PARENTING : 0.6543321299638989\n",
      "ART_AND_DESIGN : 0.6430505415162455\n",
      "COMICS : 0.6204873646209386\n",
      "BEAUTY : 0.5979241877256317\n",
      "\n",
      "\n",
      "Tools : 8.449909747292418\n",
      "Entertainment : 6.069494584837545\n",
      "Education : 5.347472924187725\n",
      "Business : 4.591606498194946\n",
      "Productivity : 3.892148014440433\n",
      "Lifestyle : 3.892148014440433\n",
      "Finance : 3.7003610108303246\n",
      "Medical : 3.531137184115524\n",
      "Sports : 3.463447653429603\n",
      "Personalization : 3.3167870036101084\n",
      "Communication : 3.2378158844765346\n",
      "Action : 3.1024368231046933\n",
      "Health & Fitness : 3.0798736462093865\n",
      "Photography : 2.944494584837545\n",
      "News & Magazines : 2.7978339350180503\n",
      "Social : 2.6624548736462095\n",
      "Travel & Local : 2.3240072202166067\n",
      "Shopping : 2.2450361010830324\n",
      "Books & Reference : 2.1435018050541514\n",
      "Simulation : 2.0419675090252705\n",
      "Dating : 1.861462093862816\n",
      "Arcade : 1.8501805054151623\n",
      "Video Players & Editors : 1.7712093862815883\n",
      "Casual : 1.7599277978339352\n",
      "Maps & Navigation : 1.3989169675090252\n",
      "Food & Drink : 1.2409747292418771\n",
      "Puzzle : 1.128158844765343\n",
      "Racing : 0.9927797833935018\n",
      "Role Playing : 0.9363718411552346\n",
      "Libraries & Demo : 0.9363718411552346\n",
      "Auto & Vehicles : 0.9250902527075812\n",
      "Strategy : 0.9138086642599278\n",
      "House & Home : 0.8235559566787004\n",
      "Weather : 0.8009927797833934\n",
      "Events : 0.7107400722021661\n",
      "Adventure : 0.6768953068592057\n",
      "Comics : 0.6092057761732852\n",
      "Beauty : 0.5979241877256317\n",
      "Art & Design : 0.5979241877256317\n",
      "Parenting : 0.4963898916967509\n",
      "Card : 0.45126353790613716\n",
      "Casino : 0.42870036101083037\n",
      "Trivia : 0.41741877256317694\n",
      "Educational;Education : 0.39485559566787\n",
      "Board : 0.3835740072202166\n",
      "Educational : 0.3722924187725632\n",
      "Education;Education : 0.33844765342960287\n",
      "Word : 0.2594765342960289\n",
      "Casual;Pretend Play : 0.236913357400722\n",
      "Music : 0.2030685920577617\n",
      "Racing;Action & Adventure : 0.16922382671480143\n",
      "Puzzle;Brain Games : 0.16922382671480143\n",
      "Entertainment;Music & Video : 0.16922382671480143\n",
      "Casual;Brain Games : 0.13537906137184114\n",
      "Casual;Action & Adventure : 0.13537906137184114\n",
      "Arcade;Action & Adventure : 0.12409747292418773\n",
      "Action;Action & Adventure : 0.10153429602888085\n",
      "Educational;Pretend Play : 0.09025270758122744\n",
      "Simulation;Action & Adventure : 0.078971119133574\n",
      "Parenting;Education : 0.078971119133574\n",
      "Entertainment;Brain Games : 0.078971119133574\n",
      "Board;Brain Games : 0.078971119133574\n",
      "Parenting;Music & Video : 0.06768953068592057\n",
      "Educational;Brain Games : 0.06768953068592057\n",
      "Casual;Creativity : 0.06768953068592057\n",
      "Art & Design;Creativity : 0.06768953068592057\n",
      "Education;Pretend Play : 0.056407942238267145\n",
      "Role Playing;Pretend Play : 0.04512635379061372\n",
      "Education;Creativity : 0.04512635379061372\n",
      "Role Playing;Action & Adventure : 0.033844765342960284\n",
      "Puzzle;Action & Adventure : 0.033844765342960284\n",
      "Entertainment;Creativity : 0.033844765342960284\n",
      "Entertainment;Action & Adventure : 0.033844765342960284\n",
      "Educational;Creativity : 0.033844765342960284\n",
      "Educational;Action & Adventure : 0.033844765342960284\n",
      "Education;Music & Video : 0.033844765342960284\n",
      "Education;Brain Games : 0.033844765342960284\n",
      "Education;Action & Adventure : 0.033844765342960284\n",
      "Adventure;Action & Adventure : 0.033844765342960284\n",
      "Video Players & Editors;Music & Video : 0.02256317689530686\n",
      "Sports;Action & Adventure : 0.02256317689530686\n",
      "Simulation;Pretend Play : 0.02256317689530686\n",
      "Puzzle;Creativity : 0.02256317689530686\n",
      "Music;Music & Video : 0.02256317689530686\n",
      "Entertainment;Pretend Play : 0.02256317689530686\n",
      "Casual;Education : 0.02256317689530686\n",
      "Board;Action & Adventure : 0.02256317689530686\n",
      "Video Players & Editors;Creativity : 0.01128158844765343\n",
      "Trivia;Education : 0.01128158844765343\n",
      "Travel & Local;Action & Adventure : 0.01128158844765343\n",
      "Tools;Education : 0.01128158844765343\n",
      "Strategy;Education : 0.01128158844765343\n",
      "Strategy;Creativity : 0.01128158844765343\n",
      "Strategy;Action & Adventure : 0.01128158844765343\n",
      "Simulation;Education : 0.01128158844765343\n",
      "Role Playing;Brain Games : 0.01128158844765343\n",
      "Racing;Pretend Play : 0.01128158844765343\n",
      "Puzzle;Education : 0.01128158844765343\n",
      "Parenting;Brain Games : 0.01128158844765343\n",
      "Music & Audio;Music & Video : 0.01128158844765343\n",
      "Lifestyle;Pretend Play : 0.01128158844765343\n",
      "Lifestyle;Education : 0.01128158844765343\n",
      "Health & Fitness;Education : 0.01128158844765343\n",
      "Health & Fitness;Action & Adventure : 0.01128158844765343\n",
      "Entertainment;Education : 0.01128158844765343\n",
      "Communication;Creativity : 0.01128158844765343\n",
      "Comics;Creativity : 0.01128158844765343\n",
      "Casual;Music & Video : 0.01128158844765343\n",
      "Card;Action & Adventure : 0.01128158844765343\n",
      "Books & Reference;Education : 0.01128158844765343\n",
      "Art & Design;Pretend Play : 0.01128158844765343\n",
      "Art & Design;Action & Adventure : 0.01128158844765343\n",
      "Arcade;Pretend Play : 0.01128158844765343\n",
      "Adventure;Education : 0.01128158844765343\n"
     ]
    }
   ],
   "source": [
    "def freq_table(dataset, index):\n",
    "    table = {}\n",
    "    total = 0\n",
    "    \n",
    "    for row in dataset:\n",
    "        total+=1\n",
    "        value = row[index]\n",
    "        if value in table:\n",
    "            table[value]+=1\n",
    "        else :\n",
    "            table[value] = 1\n",
    "    table_percentages = {}\n",
    "    for key in table:\n",
    "        percentages = (table[key]/total)*100\n",
    "        table_percentages[key] = percentages\n",
    "    return table_percentages\n",
    "def display_table(dataset, index):\n",
    "    table = freq_table(dataset, index)\n",
    "    table_display = []\n",
    "    for key in table:\n",
    "        key_val_as_tuple = (table[key], key)\n",
    "        table_display.append(key_val_as_tuple)\n",
    "\n",
    "    table_sorted = sorted(table_display, reverse = True)\n",
    "    for entry in table_sorted:\n",
    "        print(entry[1], ':', entry[0])\n",
    "apple_prime_genre = display_table(apple_free_data, 11)\n",
    "print('\\n')\n",
    "google__category= display_table(google_free_data, 1)\n",
    "print('\\n')\n",
    "google__genres = display_table(google_free_data, 9)\n",
    "    "
   ]
  },
  {
   "cell_type": "markdown",
   "metadata": {},
   "source": [
    "We can see that among the free English apps, more than a half (58.16%) are games. Entertainment apps are close to 8%, followed by photo and video apps, which are close to 5%. Only 3.66% of the apps are designed for education, followed by social networking apps which amount for 3.29% of the apps in our data set.\n",
    "\n",
    "The general impression is that App Store (at least the part containing free English apps) is dominated by apps that are designed for fun (games, entertainment, photo and video, social networking, sports, music, etc.), while apps with practical purposes (education, shopping, utilities, productivity, lifestyle, etc.) are more rare. However, the fact that fun apps are the most numerous doesn't also imply that they also have the greatest number of users — the demand might not be the same as the offer.\n",
    "\n"
   ]
  },
  {
   "cell_type": "code",
   "execution_count": 20,
   "metadata": {
    "scrolled": true
   },
   "outputs": [
    {
     "name": "stdout",
     "output_type": "stream",
     "text": [
      "Social Networking ; 71548.34905660378\n",
      "\n",
      "\n",
      "Photo & Video ; 28441.54375\n",
      "\n",
      "\n",
      "Games ; 22788.6696905016\n",
      "\n",
      "\n",
      "Music ; 57326.530303030304\n",
      "\n",
      "\n",
      "Reference ; 74942.11111111111\n",
      "\n",
      "\n",
      "Health & Fitness ; 23298.015384615384\n",
      "\n",
      "\n",
      "Weather ; 52279.892857142855\n",
      "\n",
      "\n",
      "Utilities ; 18684.456790123455\n",
      "\n",
      "\n",
      "Travel ; 28243.8\n",
      "\n",
      "\n",
      "Shopping ; 26919.690476190477\n",
      "\n",
      "\n",
      "News ; 21248.023255813954\n",
      "\n",
      "\n",
      "Navigation ; 86090.33333333333\n",
      "\n",
      "\n",
      "Lifestyle ; 16485.764705882353\n",
      "\n",
      "\n",
      "Entertainment ; 14029.830708661417\n",
      "\n",
      "\n",
      "Food & Drink ; 33333.92307692308\n",
      "\n",
      "\n",
      "Sports ; 23008.898550724636\n",
      "\n",
      "\n",
      "Book ; 39758.5\n",
      "\n",
      "\n",
      "Finance ; 31467.944444444445\n",
      "\n",
      "\n",
      "Education ; 7003.983050847458\n",
      "\n",
      "\n",
      "Productivity ; 21028.410714285714\n",
      "\n",
      "\n",
      "Business ; 7491.117647058823\n",
      "\n",
      "\n",
      "Catalogs ; 4004.0\n",
      "\n",
      "\n",
      "Medical ; 612.0\n",
      "\n",
      "\n"
     ]
    }
   ],
   "source": [
    "genres_ios = freq_table(apple_free_data, 11)\n",
    "apple={}\n",
    "for genre in genres_ios:\n",
    "    total = 0\n",
    "    len_genre = 0\n",
    "    for app in apple_free_data:\n",
    "        genre_app = app[11]\n",
    "        if genre_app == genre:\n",
    "            n_rating = float(app[5])\n",
    "            total += n_rating\n",
    "            len_genre += 1\n",
    "    avg_number = total/len_genre\n",
    "    apple[genre]= avg_number\n",
    "for data in apple:\n",
    "    datas = apple[data]\n",
    "    print(data, ';', datas)\n",
    "    print('\\n')\n",
    "    "
   ]
  },
  {
   "cell_type": "code",
   "execution_count": 21,
   "metadata": {},
   "outputs": [],
   "source": [
    "google_category = freq_table(google_free_data, 1)\n",
    "google={}\n",
    "for category in google_category:\n",
    "        total = 0\n",
    "        len_category = 0\n",
    "        for app in google_free_data:\n",
    "            category_app= app[1]\n",
    "            if category_app == category:\n",
    "                n_installs = app[5]\n",
    "                n_installs=n_installs.replace('+', '')\n",
    "                n_installs=n_installs.replace(',', '')\n",
    "                n_installs=n_installs = float(n_installs)\n",
    "                total += n_installs\n",
    "                len_category += 1\n",
    "        avag_number = total/len_category\n",
    "        google[category] = avag_number\n"
   ]
  },
  {
   "cell_type": "code",
   "execution_count": 22,
   "metadata": {},
   "outputs": [
    {
     "name": "stdout",
     "output_type": "stream",
     "text": [
      "ART_AND_DESIGN ; 1986335.0877192982\n",
      "\n",
      "\n",
      "AUTO_AND_VEHICLES ; 647317.8170731707\n",
      "\n",
      "\n",
      "BEAUTY ; 513151.88679245283\n",
      "\n",
      "\n",
      "BOOKS_AND_REFERENCE ; 8767811.894736841\n",
      "\n",
      "\n",
      "BUSINESS ; 1712290.1474201474\n",
      "\n",
      "\n",
      "COMICS ; 817657.2727272727\n",
      "\n",
      "\n",
      "COMMUNICATION ; 38456119.167247385\n",
      "\n",
      "\n",
      "DATING ; 854028.8303030303\n",
      "\n",
      "\n",
      "EDUCATION ; 1833495.145631068\n",
      "\n",
      "\n",
      "ENTERTAINMENT ; 11640705.88235294\n",
      "\n",
      "\n",
      "EVENTS ; 253542.22222222222\n",
      "\n",
      "\n",
      "FINANCE ; 1387692.475609756\n",
      "\n",
      "\n",
      "FOOD_AND_DRINK ; 1924897.7363636363\n",
      "\n",
      "\n",
      "HEALTH_AND_FITNESS ; 4188821.9853479853\n",
      "\n",
      "\n",
      "HOUSE_AND_HOME ; 1331540.5616438356\n",
      "\n",
      "\n",
      "LIBRARIES_AND_DEMO ; 638503.734939759\n",
      "\n",
      "\n",
      "LIFESTYLE ; 1437816.2687861272\n",
      "\n",
      "\n",
      "GAME ; 15588015.603248259\n",
      "\n",
      "\n",
      "FAMILY ; 3695641.8198090694\n",
      "\n",
      "\n",
      "MEDICAL ; 120550.61980830671\n",
      "\n",
      "\n",
      "SOCIAL ; 23253652.127118643\n",
      "\n",
      "\n",
      "SHOPPING ; 7036877.311557789\n",
      "\n",
      "\n",
      "PHOTOGRAPHY ; 17840110.40229885\n",
      "\n",
      "\n",
      "SPORTS ; 3638640.1428571427\n",
      "\n",
      "\n",
      "TRAVEL_AND_LOCAL ; 13984077.710144928\n",
      "\n",
      "\n",
      "TOOLS ; 10801391.298666667\n",
      "\n",
      "\n",
      "PERSONALIZATION ; 5201482.6122448975\n",
      "\n",
      "\n",
      "PRODUCTIVITY ; 16787331.344927534\n",
      "\n",
      "\n",
      "PARENTING ; 542603.6206896552\n",
      "\n",
      "\n",
      "WEATHER ; 5074486.197183099\n",
      "\n",
      "\n",
      "VIDEO_PLAYERS ; 24727872.452830188\n",
      "\n",
      "\n",
      "NEWS_AND_MAGAZINES ; 9549178.467741935\n",
      "\n",
      "\n",
      "MAPS_AND_NAVIGATION ; 4056941.7741935486\n",
      "\n",
      "\n",
      "33\n"
     ]
    }
   ],
   "source": [
    "\n",
    "for app in google:\n",
    "    yes =  google[app]\n",
    "    print (app , ';', yes)\n",
    "    print('\\n')\n",
    "print (len(google))\n"
   ]
  },
  {
   "cell_type": "markdown",
   "metadata": {
    "collapsed": true
   },
   "source": [
    "As displayed above, Communication apps has the highest number of downloads.\n",
    "From Apple store data set, Social Networking has the highest number of downloads. \n",
    "Therefore, Our recoomendation after anylysing this data is that developers should develop a social networking and communication application "
   ]
  },
  {
   "cell_type": "code",
   "execution_count": null,
   "metadata": {},
   "outputs": [],
   "source": []
  }
 ],
 "metadata": {
  "kernelspec": {
   "display_name": "Python 3",
   "language": "python",
   "name": "python3"
  },
  "language_info": {
   "codemirror_mode": {
    "name": "ipython",
    "version": 3
   },
   "file_extension": ".py",
   "mimetype": "text/x-python",
   "name": "python",
   "nbconvert_exporter": "python",
   "pygments_lexer": "ipython3",
   "version": "3.7.4"
  }
 },
 "nbformat": 4,
 "nbformat_minor": 2
}
