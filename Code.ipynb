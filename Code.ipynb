{
 "cells": [
  {
   "cell_type": "markdown",
   "metadata": {
    "collapsed": true
   },
   "source": [
    "Title:\n",
    "Identifying Best Application to attract More Users.\n",
    "Introduction:\n",
    "The Project is aimed at helping developers understand what type of free apps that are likely to attract more users in order to generate more reveneus.\n",
    "The Project will basically be aimed at Applications that are free todownload on Google pla and App Store where the only source of revenue is the in-apps ads\n"
   ]
  },
  {
   "cell_type": "code",
   "execution_count": null,
   "metadata": {
    "collapsed": false
   },
   "outputs": [],
   "source": [
    "from csv import reader\n",
    "def opening_file(file, header=True):\n",
    "    opened_file=open(file)\n",
    "    read_file = reader(opened_file)\n",
    "    apps_data= list(read_file)\n",
    "    if header:\n",
    "        return apps_data[1:], apps_data[0]\n",
    "   \n",
    "    return apps_data\n"
   ]
  },
  {
   "cell_type": "code",
   "execution_count": null,
   "metadata": {
    "collapsed": false
   },
   "outputs": [],
   "source": [
    "apple_file=opening_file(file='AppleStore.csv')\n",
    "android_file = opening_file(file = 'googleplaystore.csv')"
   ]
  },
  {
   "cell_type": "code",
   "execution_count": null,
   "metadata": {
    "collapsed": false
   },
   "outputs": [],
   "source": [
    "def explore_data(dataset, start, end, rows_and_column=False):\n",
    "    dataset_slice=dataset[start:end]\n",
    "    for row in dataset_slice:\n",
    "        print (row)\n",
    "        print('\\n')\n",
    "    if rows_and_column:\n",
    "        print('Number of rows:', len(dataset))\n",
    "        print(\"\\n\")\n",
    "        print('Number of Columns:', len(dataset[0]))\n",
    "    "
   ]
  },
  {
   "cell_type": "code",
   "execution_count": null,
   "metadata": {
    "collapsed": true
   },
   "outputs": [],
   "source": [
    "def printheader(data):\n",
    "    return data[1]\n",
    "def excludeheader(data):\n",
    "    return data[0]"
   ]
  },
  {
   "cell_type": "code",
   "execution_count": null,
   "metadata": {
    "collapsed": false
   },
   "outputs": [],
   "source": [
    "applestore_data = excludeheader(data=apple_file)\n",
    "googlestore_data = excludeheader(data=android_file)"
   ]
  },
  {
   "cell_type": "code",
   "execution_count": null,
   "metadata": {
    "collapsed": false
   },
   "outputs": [],
   "source": [
    "explore_data(dataset=applestore_data, start=0, end=1, rows_and_column=True)"
   ]
  },
  {
   "cell_type": "code",
   "execution_count": null,
   "metadata": {
    "collapsed": false
   },
   "outputs": [],
   "source": [
    "headerplay=printheader(data=apple_file)\n",
    "headerdroid=printheader(data=android_file)\n",
    "print(headerplay)\n",
    "print('\\n')\n",
    "print(headerdroid)\n"
   ]
  },
  {
   "cell_type": "code",
   "execution_count": null,
   "metadata": {
    "collapsed": false
   },
   "outputs": [],
   "source": [
    "print(googlestore_data[10472])\n",
    "del googlestore_data[10472]\n"
   ]
  },
  {
   "cell_type": "markdown",
   "metadata": {},
   "source": [
    "To Analyze these Datas, we need to make sur that there are no duplicates. My next approach here is to remove the Applications that have duplicates as seen with instagram as an example below."
   ]
  },
  {
   "cell_type": "code",
   "execution_count": null,
   "metadata": {
    "collapsed": false
   },
   "outputs": [],
   "source": [
    "for app in googlestore_data:\n",
    "    name = app[0]\n",
    "    if name == 'Instagram':\n",
    "        print (app)"
   ]
  },
  {
   "cell_type": "code",
   "execution_count": null,
   "metadata": {
    "collapsed": false
   },
   "outputs": [],
   "source": [
    "unique_data = []\n",
    "duplicates_data = []\n",
    "for row in googlestore_data:\n",
    "    name = row[0]\n",
    "    if name in unique_data:\n",
    "        duplicates_data.append(name)\n",
    "    else:\n",
    "        unique_data.append(name)\n",
    "print('Number of Duplicate Datas:', len(duplicates_data)) \n",
    "print('\\n')\n",
    "print('Examples of Duplicate datas:', duplicates_data[:15])"
   ]
  },
  {
   "cell_type": "markdown",
   "metadata": {},
   "source": [
    "As seen above, there are 1181 duplicates datas. To work on the datas, duplicate datas will be removed but not randomly. Instead, the criteria will be that, the application with the highest rating will be left to work on"
   ]
  },
  {
   "cell_type": "code",
   "execution_count": null,
   "metadata": {
    "collapsed": false
   },
   "outputs": [],
   "source": [
    "print('Expected length:', len(googlestore_data)-1181)"
   ]
  },
  {
   "cell_type": "code",
   "execution_count": null,
   "metadata": {
    "collapsed": false
   },
   "outputs": [],
   "source": [
    "reviews_max = {}\n",
    "for app in googlestore_data:\n",
    "    name = app[0]\n",
    "    n_reviews = float(app[3])\n",
    "    if (name in reviews_max) and (reviews_max[name] < n_reviews):\n",
    "        reviews_max[name]=n_reviews\n",
    "    if name not in reviews_max:\n",
    "        reviews_max[name]= n_reviews\n",
    "print (len(reviews_max))"
   ]
  },
  {
   "cell_type": "code",
   "execution_count": null,
   "metadata": {
    "collapsed": false
   },
   "outputs": [],
   "source": [
    "googlestore_clean = []\n",
    "added_app = []\n",
    "for app in googlestore_data:\n",
    "    name = app[0]\n",
    "    n_reviews = float(app[3])\n",
    "    if (reviews_max[name] == n_reviews) and (name not in added_app):\n",
    "        googlestore_clean.append(app)\n",
    "        added_app.append(name)\n",
    "\n"
   ]
  },
  {
   "cell_type": "code",
   "execution_count": null,
   "metadata": {
    "collapsed": false
   },
   "outputs": [],
   "source": [
    "explore_data(googlestore_clean, 50, 55, True)"
   ]
  },
  {
   "cell_type": "code",
   "execution_count": null,
   "metadata": {
    "collapsed": false
   },
   "outputs": [],
   "source": [
    "def string_iterate(data):\n",
    "    non_ascii = 0\n",
    "    for character in data:\n",
    "        if ord(character) > 127:\n",
    "            non_ascii +=1\n",
    "    if non_ascii > 3:\n",
    "            return False\n",
    "    else:\n",
    "            return True"
   ]
  },
  {
   "cell_type": "code",
   "execution_count": null,
   "metadata": {
    "collapsed": false
   },
   "outputs": [],
   "source": [
    "google_english= []\n",
    "google_non_english =[]\n",
    "apple_english = []\n",
    "apple_non_english = []\n",
    "\n",
    "for app in googlestore_clean:\n",
    "    name = app[0]\n",
    "    if string_iterate(name):\n",
    "        google_english.append(app)\n",
    "    else:\n",
    "        google_non_english.append(app)\n",
    "for app in applestore_data:\n",
    "    name = app[1]\n",
    "    if string_iterate(name):\n",
    "        apple_english.append(app)\n",
    "    else:\n",
    "        apple_non_english.append(app)\n",
    "explore_data(google_english,0, 2, True)\n",
    "explore_data(apple_english, 0, 3, True)"
   ]
  },
  {
   "cell_type": "code",
   "execution_count": null,
   "metadata": {
    "collapsed": false
   },
   "outputs": [],
   "source": [
    "apple_free_data = []\n",
    "google_free_data=[]\n",
    "for app in apple_english:\n",
    "    price = app[4]\n",
    "    if price == '0.0':\n",
    "        apple_free_data.append(app)\n",
    "for app in google_english:\n",
    "    price = app[7]\n",
    "    if price == '0':\n",
    "        google_free_data.append(app)\n",
    "explore_data(apple_free_data, 0, 5, True)\n",
    "explore_data(google_free_data, 0, 5 , True)"
   ]
  },
  {
   "cell_type": "markdown",
   "metadata": {},
   "source": [
    "The Aim of this Project is to Build the kinds of apps that is likely more used by a lot of users in order to help increase revenue:\n",
    "\n",
    "Because our end goal is to add the app on both the App Store and Google Play, we need to find app profiles that are successful on both markets. For instance, a profile that might work well for both markets might be a productivity app that makes use of gamification."
   ]
  },
  {
   "cell_type": "code",
   "execution_count": null,
   "metadata": {
    "collapsed": false
   },
   "outputs": [],
   "source": [
    "print(headerplay)\n",
    "print('\\n')\n",
    "print(headerdroid)"
   ]
  },
  {
   "cell_type": "code",
   "execution_count": null,
   "metadata": {
    "collapsed": false
   },
   "outputs": [],
   "source": [
    "def freq_table(dataset, index):\n",
    "    table = {}\n",
    "    total = 0\n",
    "    \n",
    "    for row in dataset:\n",
    "        total+=1\n",
    "        value = row[index]\n",
    "        if value in table:\n",
    "            table[value]+=1\n",
    "        else :\n",
    "            table[value] = 1\n",
    "    table_percentages = {}\n",
    "    for key in table:\n",
    "        percentages = (table[key]/total)*100\n",
    "        table_percentages[key] = percentages\n",
    "    return table_percentages\n",
    "def display_table(dataset, index):\n",
    "    table = freq_table(dataset, index)\n",
    "    table_display = []\n",
    "    for key in table:\n",
    "        key_val_as_tuple = (table[key], key)\n",
    "        table_display.append(key_val_as_tuple)\n",
    "\n",
    "    table_sorted = sorted(table_display, reverse = True)\n",
    "    for entry in table_sorted:\n",
    "        print(entry[1], ':', entry[0])\n",
    "apple_prime_genre = display_table(apple_free_data, 11)\n",
    "print('\\n')\n",
    "google__category= display_table(google_free_data, 1)\n",
    "print('\\n')\n",
    "google__genres = display_table(google_free_data, 9)\n",
    "    "
   ]
  },
  {
   "cell_type": "markdown",
   "metadata": {},
   "source": [
    "We can see that among the free English apps, more than a half (58.16%) are games. Entertainment apps are close to 8%, followed by photo and video apps, which are close to 5%. Only 3.66% of the apps are designed for education, followed by social networking apps which amount for 3.29% of the apps in our data set.\n",
    "\n",
    "The general impression is that App Store (at least the part containing free English apps) is dominated by apps that are designed for fun (games, entertainment, photo and video, social networking, sports, music, etc.), while apps with practical purposes (education, shopping, utilities, productivity, lifestyle, etc.) are more rare. However, the fact that fun apps are the most numerous doesn't also imply that they also have the greatest number of users — the demand might not be the same as the offer.\n",
    "\n"
   ]
  },
  {
   "cell_type": "code",
   "execution_count": null,
   "metadata": {
    "collapsed": false,
    "scrolled": true
   },
   "outputs": [],
   "source": [
    "genres_ios = freq_table(apple_free_data, 11)\n",
    "apple={}\n",
    "for genre in genres_ios:\n",
    "    total = 0\n",
    "    len_genre = 0\n",
    "    for app in apple_free_data:\n",
    "        genre_app = app[11]\n",
    "        if genre_app == genre:\n",
    "            n_rating = float(app[5])\n",
    "            total += n_rating\n",
    "            len_genre += 1\n",
    "    avg_number = total/len_genre\n",
    "    apple[genre]= avg_number\n",
    "for data in apple:\n",
    "    datas = apple[data]\n",
    "    print(data, ';', datas)\n",
    "    print('\\n')\n",
    "    "
   ]
  },
  {
   "cell_type": "code",
   "execution_count": null,
   "metadata": {
    "collapsed": false
   },
   "outputs": [],
   "source": [
    "google_category = freq_table(google_free_data, 1)\n",
    "google={}\n",
    "for category in google_category:\n",
    "        total = 0\n",
    "        len_category = 0\n",
    "        for app in google_free_data:\n",
    "            category_app= app[1]\n",
    "            if category_app == category:\n",
    "                n_installs = app[5]\n",
    "                n_installs=n_installs.replace('+', '')\n",
    "                n_installs=n_installs.replace(',', '')\n",
    "                n_installs=n_installs = float(n_installs)\n",
    "                total += n_installs\n",
    "                len_category += 1\n",
    "        avag_number = total/len_category\n",
    "        google[category] = avag_number\n"
   ]
  },
  {
   "cell_type": "code",
   "execution_count": null,
   "metadata": {
    "collapsed": false
   },
   "outputs": [],
   "source": [
    "\n",
    "for app in google:\n",
    "    yes =  google[app]\n",
    "    print (app , ';', yes)\n",
    "    print('\\n')\n",
    "print (len(google))\n"
   ]
  },
  {
   "cell_type": "markdown",
   "metadata": {
    "collapsed": true
   },
   "source": [
    "As displayed above, Communication apps has the highest number of downloads.\n",
    "From Apple store data set, Social Networking has the highest number of downloads. \n",
    "Therefore, Our recoomendation after anylysing this data is that developers should develop a social networking and communication application "
   ]
  },
  {
   "cell_type": "code",
   "execution_count": null,
   "metadata": {
    "collapsed": true
   },
   "outputs": [],
   "source": []
  }
 ],
 "metadata": {
  "kernelspec": {
   "display_name": "Python 3",
   "language": "python",
   "name": "python3"
  },
  "language_info": {
   "codemirror_mode": {
    "name": "ipython",
    "version": 3
   },
   "file_extension": ".py",
   "mimetype": "text/x-python",
   "name": "python",
   "nbconvert_exporter": "python",
   "pygments_lexer": "ipython3",
   "version": "3.4.3"
  }
 },
 "nbformat": 4,
 "nbformat_minor": 2
}
